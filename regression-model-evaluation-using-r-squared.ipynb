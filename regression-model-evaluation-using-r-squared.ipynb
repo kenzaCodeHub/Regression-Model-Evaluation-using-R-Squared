{
 "cells": [
  {
   "cell_type": "code",
   "execution_count": 1,
   "id": "0c53b311",
   "metadata": {
    "_cell_guid": "b1076dfc-b9ad-4769-8c92-a6c4dae69d19",
    "_uuid": "8f2839f25d086af736a60e9eeb907d3b93b6e0e5",
    "execution": {
     "iopub.execute_input": "2024-11-11T14:25:16.487967Z",
     "iopub.status.busy": "2024-11-11T14:25:16.487206Z",
     "iopub.status.idle": "2024-11-11T14:25:18.401263Z",
     "shell.execute_reply": "2024-11-11T14:25:18.400477Z"
    },
    "papermill": {
     "duration": 1.923357,
     "end_time": "2024-11-11T14:25:18.403426",
     "exception": false,
     "start_time": "2024-11-11T14:25:16.480069",
     "status": "completed"
    },
    "tags": []
   },
   "outputs": [],
   "source": [
    "import numpy as np\n",
    "import pandas as pd\n",
    "import numpy as np\n",
    "import pandas as pd\n",
    "from sklearn.model_selection import train_test_split\n",
    "from sklearn.preprocessing import StandardScaler\n",
    "from sklearn.neural_network import MLPRegressor\n",
    "from sklearn.linear_model import LinearRegression\n",
    "from sklearn.metrics import mean_absolute_error, mean_squared_error, r2_score\n",
    "import matplotlib.pyplot as plt"
   ]
  },
  {
   "cell_type": "code",
   "execution_count": 2,
   "id": "1629b112",
   "metadata": {
    "execution": {
     "iopub.execute_input": "2024-11-11T14:25:18.415690Z",
     "iopub.status.busy": "2024-11-11T14:25:18.415305Z",
     "iopub.status.idle": "2024-11-11T14:25:18.827353Z",
     "shell.execute_reply": "2024-11-11T14:25:18.826473Z"
    },
    "papermill": {
     "duration": 0.420697,
     "end_time": "2024-11-11T14:25:18.829919",
     "exception": false,
     "start_time": "2024-11-11T14:25:18.409222",
     "status": "completed"
    },
    "tags": []
   },
   "outputs": [
    {
     "data": {
      "text/html": [
       "<div>\n",
       "<style scoped>\n",
       "    .dataframe tbody tr th:only-of-type {\n",
       "        vertical-align: middle;\n",
       "    }\n",
       "\n",
       "    .dataframe tbody tr th {\n",
       "        vertical-align: top;\n",
       "    }\n",
       "\n",
       "    .dataframe thead th {\n",
       "        text-align: right;\n",
       "    }\n",
       "</style>\n",
       "<table border=\"1\" class=\"dataframe\">\n",
       "  <thead>\n",
       "    <tr style=\"text-align: right;\">\n",
       "      <th></th>\n",
       "      <th>Lp</th>\n",
       "      <th>Hdc [A/m]</th>\n",
       "      <th>Vpp [mV]</th>\n",
       "    </tr>\n",
       "  </thead>\n",
       "  <tbody>\n",
       "    <tr>\n",
       "      <th>0</th>\n",
       "      <td>1</td>\n",
       "      <td>-152.4104</td>\n",
       "      <td>2.693146</td>\n",
       "    </tr>\n",
       "    <tr>\n",
       "      <th>1</th>\n",
       "      <td>2</td>\n",
       "      <td>-137.9856</td>\n",
       "      <td>2.772855</td>\n",
       "    </tr>\n",
       "    <tr>\n",
       "      <th>2</th>\n",
       "      <td>3</td>\n",
       "      <td>-123.4848</td>\n",
       "      <td>2.681504</td>\n",
       "    </tr>\n",
       "    <tr>\n",
       "      <th>3</th>\n",
       "      <td>4</td>\n",
       "      <td>-108.4824</td>\n",
       "      <td>2.696149</td>\n",
       "    </tr>\n",
       "  </tbody>\n",
       "</table>\n",
       "</div>"
      ],
      "text/plain": [
       "   Lp  Hdc [A/m]  Vpp [mV]\n",
       "0   1  -152.4104  2.693146\n",
       "1   2  -137.9856  2.772855\n",
       "2   3  -123.4848  2.681504\n",
       "3   4  -108.4824  2.696149"
      ]
     },
     "execution_count": 2,
     "metadata": {},
     "output_type": "execute_result"
    }
   ],
   "source": [
    "# There are three Worksheets, so we can pick which on eto approximate\n",
    "# There are three Worksheets, so we can pick which on eto approximate\n",
    "hs = [82, 118, 161]\n",
    "# Here we load the data\n",
    "data = pd.read_excel ('/kaggle/input/dataset1/InputData.xlsx', sheet_name='HS='+str(hs[0]))\n",
    "data.head(4)"
   ]
  },
  {
   "cell_type": "code",
   "execution_count": 3,
   "id": "d8806404",
   "metadata": {
    "execution": {
     "iopub.execute_input": "2024-11-11T14:25:18.843448Z",
     "iopub.status.busy": "2024-11-11T14:25:18.842704Z",
     "iopub.status.idle": "2024-11-11T14:25:18.848148Z",
     "shell.execute_reply": "2024-11-11T14:25:18.847333Z"
    },
    "papermill": {
     "duration": 0.014004,
     "end_time": "2024-11-11T14:25:18.850081",
     "exception": false,
     "start_time": "2024-11-11T14:25:18.836077",
     "status": "completed"
    },
    "tags": []
   },
   "outputs": [
    {
     "data": {
      "text/plain": [
       "Index(['Lp', 'Hdc [A/m]', 'Vpp [mV]'], dtype='object')"
      ]
     },
     "execution_count": 3,
     "metadata": {},
     "output_type": "execute_result"
    }
   ],
   "source": [
    "#see the colums of the dataset\n",
    "data.columns"
   ]
  },
  {
   "cell_type": "code",
   "execution_count": 4,
   "id": "8752b04e",
   "metadata": {
    "execution": {
     "iopub.execute_input": "2024-11-11T14:25:18.862402Z",
     "iopub.status.busy": "2024-11-11T14:25:18.861927Z",
     "iopub.status.idle": "2024-11-11T14:25:18.869817Z",
     "shell.execute_reply": "2024-11-11T14:25:18.869010Z"
    },
    "papermill": {
     "duration": 0.016004,
     "end_time": "2024-11-11T14:25:18.871663",
     "exception": false,
     "start_time": "2024-11-11T14:25:18.855659",
     "status": "completed"
    },
    "tags": []
   },
   "outputs": [],
   "source": [
    "#give the inputs\n",
    "x=data[['Hdc [A/m]']].to_numpy().reshape(-1,1)"
   ]
  },
  {
   "cell_type": "code",
   "execution_count": 5,
   "id": "83f36219",
   "metadata": {
    "execution": {
     "iopub.execute_input": "2024-11-11T14:25:18.884246Z",
     "iopub.status.busy": "2024-11-11T14:25:18.883786Z",
     "iopub.status.idle": "2024-11-11T14:25:18.888118Z",
     "shell.execute_reply": "2024-11-11T14:25:18.887315Z"
    },
    "papermill": {
     "duration": 0.012774,
     "end_time": "2024-11-11T14:25:18.889978",
     "exception": false,
     "start_time": "2024-11-11T14:25:18.877204",
     "status": "completed"
    },
    "tags": []
   },
   "outputs": [],
   "source": [
    "#give the outputs\n",
    "y=data[['Vpp [mV]']].to_numpy().reshape(-1,1)"
   ]
  },
  {
   "cell_type": "code",
   "execution_count": 6,
   "id": "c5c149a6",
   "metadata": {
    "execution": {
     "iopub.execute_input": "2024-11-11T14:25:18.902570Z",
     "iopub.status.busy": "2024-11-11T14:25:18.902127Z",
     "iopub.status.idle": "2024-11-11T14:25:18.905840Z",
     "shell.execute_reply": "2024-11-11T14:25:18.904979Z"
    },
    "papermill": {
     "duration": 0.011956,
     "end_time": "2024-11-11T14:25:18.907775",
     "exception": false,
     "start_time": "2024-11-11T14:25:18.895819",
     "status": "completed"
    },
    "tags": []
   },
   "outputs": [],
   "source": [
    "#convert to 1D arrray\n",
    "y = np.ravel(y)"
   ]
  },
  {
   "cell_type": "code",
   "execution_count": 7,
   "id": "7cd11063",
   "metadata": {
    "execution": {
     "iopub.execute_input": "2024-11-11T14:25:18.919889Z",
     "iopub.status.busy": "2024-11-11T14:25:18.919626Z",
     "iopub.status.idle": "2024-11-11T14:25:18.926331Z",
     "shell.execute_reply": "2024-11-11T14:25:18.925505Z"
    },
    "papermill": {
     "duration": 0.01494,
     "end_time": "2024-11-11T14:25:18.928184",
     "exception": false,
     "start_time": "2024-11-11T14:25:18.913244",
     "status": "completed"
    },
    "tags": []
   },
   "outputs": [],
   "source": [
    "#split the data to 90% for trainting and 10% for testing\n",
    "x_train, x_test, y_train, y_test = train_test_split(x, y,random_state=1, test_size=0.1)"
   ]
  },
  {
   "cell_type": "code",
   "execution_count": 8,
   "id": "2da94bd4",
   "metadata": {
    "execution": {
     "iopub.execute_input": "2024-11-11T14:25:18.940066Z",
     "iopub.status.busy": "2024-11-11T14:25:18.939808Z",
     "iopub.status.idle": "2024-11-11T14:25:18.945145Z",
     "shell.execute_reply": "2024-11-11T14:25:18.944228Z"
    },
    "papermill": {
     "duration": 0.013558,
     "end_time": "2024-11-11T14:25:18.947159",
     "exception": false,
     "start_time": "2024-11-11T14:25:18.933601",
     "status": "completed"
    },
    "tags": []
   },
   "outputs": [],
   "source": [
    "#scalling data\n",
    "scaler = StandardScaler()\n",
    "x_train_scaled = scaler.fit_transform(x_train)\n",
    "x_test_scaled = scaler.transform(x_test)"
   ]
  },
  {
   "cell_type": "code",
   "execution_count": 9,
   "id": "c6fd6753",
   "metadata": {
    "execution": {
     "iopub.execute_input": "2024-11-11T14:25:18.959268Z",
     "iopub.status.busy": "2024-11-11T14:25:18.958948Z",
     "iopub.status.idle": "2024-11-11T14:25:18.962834Z",
     "shell.execute_reply": "2024-11-11T14:25:18.962000Z"
    },
    "papermill": {
     "duration": 0.012055,
     "end_time": "2024-11-11T14:25:18.964703",
     "exception": false,
     "start_time": "2024-11-11T14:25:18.952648",
     "status": "completed"
    },
    "tags": []
   },
   "outputs": [],
   "source": [
    "y_train_flat = np.ravel(y_train)"
   ]
  },
  {
   "cell_type": "code",
   "execution_count": 10,
   "id": "35196eba",
   "metadata": {
    "execution": {
     "iopub.execute_input": "2024-11-11T14:25:18.976742Z",
     "iopub.status.busy": "2024-11-11T14:25:18.976295Z",
     "iopub.status.idle": "2024-11-11T14:25:19.247899Z",
     "shell.execute_reply": "2024-11-11T14:25:19.247238Z"
    },
    "papermill": {
     "duration": 0.279877,
     "end_time": "2024-11-11T14:25:19.250058",
     "exception": false,
     "start_time": "2024-11-11T14:25:18.970181",
     "status": "completed"
    },
    "tags": []
   },
   "outputs": [],
   "source": [
    "mlp_regressor = MLPRegressor(hidden_layer_sizes = (15,) , activation='tanh', random_state=1, learning_rate='adaptive', max_iter=5000).fit(x_train, y_train)"
   ]
  },
  {
   "cell_type": "code",
   "execution_count": 11,
   "id": "322edbdc",
   "metadata": {
    "execution": {
     "iopub.execute_input": "2024-11-11T14:25:19.262425Z",
     "iopub.status.busy": "2024-11-11T14:25:19.261874Z",
     "iopub.status.idle": "2024-11-11T14:25:19.707307Z",
     "shell.execute_reply": "2024-11-11T14:25:19.706427Z"
    },
    "papermill": {
     "duration": 0.453603,
     "end_time": "2024-11-11T14:25:19.709230",
     "exception": false,
     "start_time": "2024-11-11T14:25:19.255627",
     "status": "completed"
    },
    "tags": []
   },
   "outputs": [
    {
     "data": {
      "text/html": [
       "<style>#sk-container-id-1 {color: black;background-color: white;}#sk-container-id-1 pre{padding: 0;}#sk-container-id-1 div.sk-toggleable {background-color: white;}#sk-container-id-1 label.sk-toggleable__label {cursor: pointer;display: block;width: 100%;margin-bottom: 0;padding: 0.3em;box-sizing: border-box;text-align: center;}#sk-container-id-1 label.sk-toggleable__label-arrow:before {content: \"▸\";float: left;margin-right: 0.25em;color: #696969;}#sk-container-id-1 label.sk-toggleable__label-arrow:hover:before {color: black;}#sk-container-id-1 div.sk-estimator:hover label.sk-toggleable__label-arrow:before {color: black;}#sk-container-id-1 div.sk-toggleable__content {max-height: 0;max-width: 0;overflow: hidden;text-align: left;background-color: #f0f8ff;}#sk-container-id-1 div.sk-toggleable__content pre {margin: 0.2em;color: black;border-radius: 0.25em;background-color: #f0f8ff;}#sk-container-id-1 input.sk-toggleable__control:checked~div.sk-toggleable__content {max-height: 200px;max-width: 100%;overflow: auto;}#sk-container-id-1 input.sk-toggleable__control:checked~label.sk-toggleable__label-arrow:before {content: \"▾\";}#sk-container-id-1 div.sk-estimator input.sk-toggleable__control:checked~label.sk-toggleable__label {background-color: #d4ebff;}#sk-container-id-1 div.sk-label input.sk-toggleable__control:checked~label.sk-toggleable__label {background-color: #d4ebff;}#sk-container-id-1 input.sk-hidden--visually {border: 0;clip: rect(1px 1px 1px 1px);clip: rect(1px, 1px, 1px, 1px);height: 1px;margin: -1px;overflow: hidden;padding: 0;position: absolute;width: 1px;}#sk-container-id-1 div.sk-estimator {font-family: monospace;background-color: #f0f8ff;border: 1px dotted black;border-radius: 0.25em;box-sizing: border-box;margin-bottom: 0.5em;}#sk-container-id-1 div.sk-estimator:hover {background-color: #d4ebff;}#sk-container-id-1 div.sk-parallel-item::after {content: \"\";width: 100%;border-bottom: 1px solid gray;flex-grow: 1;}#sk-container-id-1 div.sk-label:hover label.sk-toggleable__label {background-color: #d4ebff;}#sk-container-id-1 div.sk-serial::before {content: \"\";position: absolute;border-left: 1px solid gray;box-sizing: border-box;top: 0;bottom: 0;left: 50%;z-index: 0;}#sk-container-id-1 div.sk-serial {display: flex;flex-direction: column;align-items: center;background-color: white;padding-right: 0.2em;padding-left: 0.2em;position: relative;}#sk-container-id-1 div.sk-item {position: relative;z-index: 1;}#sk-container-id-1 div.sk-parallel {display: flex;align-items: stretch;justify-content: center;background-color: white;position: relative;}#sk-container-id-1 div.sk-item::before, #sk-container-id-1 div.sk-parallel-item::before {content: \"\";position: absolute;border-left: 1px solid gray;box-sizing: border-box;top: 0;bottom: 0;left: 50%;z-index: -1;}#sk-container-id-1 div.sk-parallel-item {display: flex;flex-direction: column;z-index: 1;position: relative;background-color: white;}#sk-container-id-1 div.sk-parallel-item:first-child::after {align-self: flex-end;width: 50%;}#sk-container-id-1 div.sk-parallel-item:last-child::after {align-self: flex-start;width: 50%;}#sk-container-id-1 div.sk-parallel-item:only-child::after {width: 0;}#sk-container-id-1 div.sk-dashed-wrapped {border: 1px dashed gray;margin: 0 0.4em 0.5em 0.4em;box-sizing: border-box;padding-bottom: 0.4em;background-color: white;}#sk-container-id-1 div.sk-label label {font-family: monospace;font-weight: bold;display: inline-block;line-height: 1.2em;}#sk-container-id-1 div.sk-label-container {text-align: center;}#sk-container-id-1 div.sk-container {/* jupyter's `normalize.less` sets `[hidden] { display: none; }` but bootstrap.min.css set `[hidden] { display: none !important; }` so we also need the `!important` here to be able to override the default hidden behavior on the sphinx rendered scikit-learn.org. See: https://github.com/scikit-learn/scikit-learn/issues/21755 */display: inline-block !important;position: relative;}#sk-container-id-1 div.sk-text-repr-fallback {display: none;}</style><div id=\"sk-container-id-1\" class=\"sk-top-container\"><div class=\"sk-text-repr-fallback\"><pre>MLPRegressor(activation=&#x27;tanh&#x27;, hidden_layer_sizes=(15,),\n",
       "             learning_rate=&#x27;adaptive&#x27;, max_iter=5000, random_state=1)</pre><b>In a Jupyter environment, please rerun this cell to show the HTML representation or trust the notebook. <br />On GitHub, the HTML representation is unable to render, please try loading this page with nbviewer.org.</b></div><div class=\"sk-container\" hidden><div class=\"sk-item\"><div class=\"sk-estimator sk-toggleable\"><input class=\"sk-toggleable__control sk-hidden--visually\" id=\"sk-estimator-id-1\" type=\"checkbox\" checked><label for=\"sk-estimator-id-1\" class=\"sk-toggleable__label sk-toggleable__label-arrow\">MLPRegressor</label><div class=\"sk-toggleable__content\"><pre>MLPRegressor(activation=&#x27;tanh&#x27;, hidden_layer_sizes=(15,),\n",
       "             learning_rate=&#x27;adaptive&#x27;, max_iter=5000, random_state=1)</pre></div></div></div></div></div>"
      ],
      "text/plain": [
       "MLPRegressor(activation='tanh', hidden_layer_sizes=(15,),\n",
       "             learning_rate='adaptive', max_iter=5000, random_state=1)"
      ]
     },
     "execution_count": 11,
     "metadata": {},
     "output_type": "execute_result"
    }
   ],
   "source": [
    "mlp_regressor.fit(x_train_scaled,y_train_flat)"
   ]
  },
  {
   "cell_type": "code",
   "execution_count": 12,
   "id": "69425d6f",
   "metadata": {
    "execution": {
     "iopub.execute_input": "2024-11-11T14:25:19.722534Z",
     "iopub.status.busy": "2024-11-11T14:25:19.721918Z",
     "iopub.status.idle": "2024-11-11T14:25:19.727469Z",
     "shell.execute_reply": "2024-11-11T14:25:19.726554Z"
    },
    "papermill": {
     "duration": 0.014505,
     "end_time": "2024-11-11T14:25:19.729600",
     "exception": false,
     "start_time": "2024-11-11T14:25:19.715095",
     "status": "completed"
    },
    "tags": []
   },
   "outputs": [
    {
     "name": "stdout",
     "output_type": "stream",
     "text": [
      "score of r square:  0.8908781214581072\n"
     ]
    }
   ],
   "source": [
    "# Evaluating the model quality\n",
    "r_s = mlp_regressor.score(x_test_scaled, y_test)\n",
    "print('score of r square: ', r_s)"
   ]
  },
  {
   "cell_type": "code",
   "execution_count": 13,
   "id": "18927472",
   "metadata": {
    "execution": {
     "iopub.execute_input": "2024-11-11T14:25:19.742905Z",
     "iopub.status.busy": "2024-11-11T14:25:19.742256Z",
     "iopub.status.idle": "2024-11-11T14:25:19.746232Z",
     "shell.execute_reply": "2024-11-11T14:25:19.745443Z"
    },
    "papermill": {
     "duration": 0.012463,
     "end_time": "2024-11-11T14:25:19.748084",
     "exception": false,
     "start_time": "2024-11-11T14:25:19.735621",
     "status": "completed"
    },
    "tags": []
   },
   "outputs": [],
   "source": [
    "# Use the trained model to make predictions on the test data\n",
    "y_pred = mlp_regressor.predict(x_test_scaled)"
   ]
  },
  {
   "cell_type": "code",
   "execution_count": 14,
   "id": "3ebfca15",
   "metadata": {
    "execution": {
     "iopub.execute_input": "2024-11-11T14:25:19.761303Z",
     "iopub.status.busy": "2024-11-11T14:25:19.760802Z",
     "iopub.status.idle": "2024-11-11T14:25:19.765448Z",
     "shell.execute_reply": "2024-11-11T14:25:19.764574Z"
    },
    "papermill": {
     "duration": 0.013643,
     "end_time": "2024-11-11T14:25:19.767636",
     "exception": false,
     "start_time": "2024-11-11T14:25:19.753993",
     "status": "completed"
    },
    "tags": []
   },
   "outputs": [
    {
     "name": "stdout",
     "output_type": "stream",
     "text": [
      "Mean Squared Error: 0.2563202520342972\n"
     ]
    }
   ],
   "source": [
    "# Calculate mean squared error\n",
    "mse = mean_squared_error(y_test, y_pred)\n",
    "print(\"Mean Squared Error:\", mse)"
   ]
  },
  {
   "cell_type": "code",
   "execution_count": 15,
   "id": "9ad521a2",
   "metadata": {
    "execution": {
     "iopub.execute_input": "2024-11-11T14:25:19.780476Z",
     "iopub.status.busy": "2024-11-11T14:25:19.780241Z",
     "iopub.status.idle": "2024-11-11T14:25:20.052805Z",
     "shell.execute_reply": "2024-11-11T14:25:20.051985Z"
    },
    "papermill": {
     "duration": 0.281239,
     "end_time": "2024-11-11T14:25:20.054702",
     "exception": false,
     "start_time": "2024-11-11T14:25:19.773463",
     "status": "completed"
    },
    "tags": []
   },
   "outputs": [
    {
     "data": {
      "image/png": "[encoded data removed]",
      "text/plain": [
       "<Figure size 640x480 with 1 Axes>"
      ]
     },
     "metadata": {},
     "output_type": "display_data"
    }
   ],
   "source": [
    "# And plot the results... :)\n",
    "patterns = plt.plot(data[['Hdc [A/m]']], data['Vpp [mV]'], 'ro', x_test, y_pred, 'g^')    \n",
    "plt.xlabel('Hdc [A/m]')\n",
    "plt.ylabel('Upp [mV]')\n",
    "plt.legend(patterns[:2], ['measured', 'approximated'])\n",
    "plt.show()"
   ]
  },
  {
   "cell_type": "code",
   "execution_count": 16,
   "id": "e6200b8c",
   "metadata": {
    "execution": {
     "iopub.execute_input": "2024-11-11T14:25:20.069448Z",
     "iopub.status.busy": "2024-11-11T14:25:20.069175Z",
     "iopub.status.idle": "2024-11-11T14:25:20.072790Z",
     "shell.execute_reply": "2024-11-11T14:25:20.072059Z"
    },
    "papermill": {
     "duration": 0.0135,
     "end_time": "2024-11-11T14:25:20.074567",
     "exception": false,
     "start_time": "2024-11-11T14:25:20.061067",
     "status": "completed"
    },
    "tags": []
   },
   "outputs": [],
   "source": [
    "#linear regression \n",
    "regressor = LinearRegression()"
   ]
  },
  {
   "cell_type": "code",
   "execution_count": 17,
   "id": "66db449d",
   "metadata": {
    "execution": {
     "iopub.execute_input": "2024-11-11T14:25:20.088227Z",
     "iopub.status.busy": "2024-11-11T14:25:20.087760Z",
     "iopub.status.idle": "2024-11-11T14:25:20.104196Z",
     "shell.execute_reply": "2024-11-11T14:25:20.103404Z"
    },
    "papermill": {
     "duration": 0.025259,
     "end_time": "2024-11-11T14:25:20.106057",
     "exception": false,
     "start_time": "2024-11-11T14:25:20.080798",
     "status": "completed"
    },
    "tags": []
   },
   "outputs": [
    {
     "data": {
      "text/html": [
       "<style>#sk-container-id-2 {color: black;background-color: white;}#sk-container-id-2 pre{padding: 0;}#sk-container-id-2 div.sk-toggleable {background-color: white;}#sk-container-id-2 label.sk-toggleable__label {cursor: pointer;display: block;width: 100%;margin-bottom: 0;padding: 0.3em;box-sizing: border-box;text-align: center;}#sk-container-id-2 label.sk-toggleable__label-arrow:before {content: \"▸\";float: left;margin-right: 0.25em;color: #696969;}#sk-container-id-2 label.sk-toggleable__label-arrow:hover:before {color: black;}#sk-container-id-2 div.sk-estimator:hover label.sk-toggleable__label-arrow:before {color: black;}#sk-container-id-2 div.sk-toggleable__content {max-height: 0;max-width: 0;overflow: hidden;text-align: left;background-color: #f0f8ff;}#sk-container-id-2 div.sk-toggleable__content pre {margin: 0.2em;color: black;border-radius: 0.25em;background-color: #f0f8ff;}#sk-container-id-2 input.sk-toggleable__control:checked~div.sk-toggleable__content {max-height: 200px;max-width: 100%;overflow: auto;}#sk-container-id-2 input.sk-toggleable__control:checked~label.sk-toggleable__label-arrow:before {content: \"▾\";}#sk-container-id-2 div.sk-estimator input.sk-toggleable__control:checked~label.sk-toggleable__label {background-color: #d4ebff;}#sk-container-id-2 div.sk-label input.sk-toggleable__control:checked~label.sk-toggleable__label {background-color: #d4ebff;}#sk-container-id-2 input.sk-hidden--visually {border: 0;clip: rect(1px 1px 1px 1px);clip: rect(1px, 1px, 1px, 1px);height: 1px;margin: -1px;overflow: hidden;padding: 0;position: absolute;width: 1px;}#sk-container-id-2 div.sk-estimator {font-family: monospace;background-color: #f0f8ff;border: 1px dotted black;border-radius: 0.25em;box-sizing: border-box;margin-bottom: 0.5em;}#sk-container-id-2 div.sk-estimator:hover {background-color: #d4ebff;}#sk-container-id-2 div.sk-parallel-item::after {content: \"\";width: 100%;border-bottom: 1px solid gray;flex-grow: 1;}#sk-container-id-2 div.sk-label:hover label.sk-toggleable__label {background-color: #d4ebff;}#sk-container-id-2 div.sk-serial::before {content: \"\";position: absolute;border-left: 1px solid gray;box-sizing: border-box;top: 0;bottom: 0;left: 50%;z-index: 0;}#sk-container-id-2 div.sk-serial {display: flex;flex-direction: column;align-items: center;background-color: white;padding-right: 0.2em;padding-left: 0.2em;position: relative;}#sk-container-id-2 div.sk-item {position: relative;z-index: 1;}#sk-container-id-2 div.sk-parallel {display: flex;align-items: stretch;justify-content: center;background-color: white;position: relative;}#sk-container-id-2 div.sk-item::before, #sk-container-id-2 div.sk-parallel-item::before {content: \"\";position: absolute;border-left: 1px solid gray;box-sizing: border-box;top: 0;bottom: 0;left: 50%;z-index: -1;}#sk-container-id-2 div.sk-parallel-item {display: flex;flex-direction: column;z-index: 1;position: relative;background-color: white;}#sk-container-id-2 div.sk-parallel-item:first-child::after {align-self: flex-end;width: 50%;}#sk-container-id-2 div.sk-parallel-item:last-child::after {align-self: flex-start;width: 50%;}#sk-container-id-2 div.sk-parallel-item:only-child::after {width: 0;}#sk-container-id-2 div.sk-dashed-wrapped {border: 1px dashed gray;margin: 0 0.4em 0.5em 0.4em;box-sizing: border-box;padding-bottom: 0.4em;background-color: white;}#sk-container-id-2 div.sk-label label {font-family: monospace;font-weight: bold;display: inline-block;line-height: 1.2em;}#sk-container-id-2 div.sk-label-container {text-align: center;}#sk-container-id-2 div.sk-container {/* jupyter's `normalize.less` sets `[hidden] { display: none; }` but bootstrap.min.css set `[hidden] { display: none !important; }` so we also need the `!important` here to be able to override the default hidden behavior on the sphinx rendered scikit-learn.org. See: https://github.com/scikit-learn/scikit-learn/issues/21755 */display: inline-block !important;position: relative;}#sk-container-id-2 div.sk-text-repr-fallback {display: none;}</style><div id=\"sk-container-id-2\" class=\"sk-top-container\"><div class=\"sk-text-repr-fallback\"><pre>LinearRegression()</pre><b>In a Jupyter environment, please rerun this cell to show the HTML representation or trust the notebook. <br />On GitHub, the HTML representation is unable to render, please try loading this page with nbviewer.org.</b></div><div class=\"sk-container\" hidden><div class=\"sk-item\"><div class=\"sk-estimator sk-toggleable\"><input class=\"sk-toggleable__control sk-hidden--visually\" id=\"sk-estimator-id-2\" type=\"checkbox\" checked><label for=\"sk-estimator-id-2\" class=\"sk-toggleable__label sk-toggleable__label-arrow\">LinearRegression</label><div class=\"sk-toggleable__content\"><pre>LinearRegression()</pre></div></div></div></div></div>"
      ],
      "text/plain": [
       "LinearRegression()"
      ]
     },
     "execution_count": 17,
     "metadata": {},
     "output_type": "execute_result"
    }
   ],
   "source": [
    "# Fit the linear regression model to the training data\n",
    "regressor.fit(x_train_scaled, y_train)"
   ]
  },
  {
   "cell_type": "code",
   "execution_count": 18,
   "id": "0d2ca64d",
   "metadata": {
    "execution": {
     "iopub.execute_input": "2024-11-11T14:25:20.120009Z",
     "iopub.status.busy": "2024-11-11T14:25:20.119757Z",
     "iopub.status.idle": "2024-11-11T14:25:20.124697Z",
     "shell.execute_reply": "2024-11-11T14:25:20.123899Z"
    },
    "papermill": {
     "duration": 0.014344,
     "end_time": "2024-11-11T14:25:20.126829",
     "exception": false,
     "start_time": "2024-11-11T14:25:20.112485",
     "status": "completed"
    },
    "tags": []
   },
   "outputs": [
    {
     "name": "stdout",
     "output_type": "stream",
     "text": [
      "score of r square:  -0.004601348265174332\n"
     ]
    }
   ],
   "source": [
    "# Evaluating the model quality\n",
    "r_sq = regressor.score(x_test_scaled, y_test)\n",
    "print('score of r square: ', r_sq)"
   ]
  }
 ],
 "metadata": {
  "kaggle": {
   "accelerator": "nvidiaTeslaT4",
   "dataSources": [
    {
     "datasetId": 4829662,
     "sourceId": 8162793,
     "sourceType": "datasetVersion"
    }
   ],
   "dockerImageVersionId": 30699,
   "isGpuEnabled": true,
   "isInternetEnabled": true,
   "language": "python",
   "sourceType": "notebook"
  },
  "kernelspec": {
   "display_name": "Python 3",
   "language": "python",
   "name": "python3"
  },
  "language_info": {
   "codemirror_mode": {
    "name": "ipython",
    "version": 3
   },
   "file_extension": ".py",
   "mimetype": "text/x-python",
   "name": "python",
   "nbconvert_exporter": "python",
   "pygments_lexer": "ipython3",
   "version": "3.10.13"
  },
  "papermill": {
   "default_parameters": {},
   "duration": 6.914332,
   "end_time": "2024-11-11T14:25:20.551050",
   "environment_variables": {},
   "exception": null,
   "input_path": "__notebook__.ipynb",
   "output_path": "__notebook__.ipynb",
   "parameters": {},
   "start_time": "2024-11-11T14:25:13.636718",
   "version": "2.5.0"
  }
 },
 "nbformat": 4,
 "nbformat_minor": 5
}
